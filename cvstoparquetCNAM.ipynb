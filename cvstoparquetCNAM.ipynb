{
 "cells": [
  {
   "cell_type": "code",
   "execution_count": 1,
   "id": "940ed3a6-a4ea-4f41-8899-f66e85d700b3",
   "metadata": {},
   "outputs": [
    {
     "name": "stdout",
     "output_type": "stream",
     "text": [
      "Requirement already satisfied: pyarrow in /opt/conda/lib/python3.12/site-packages (19.0.1)\n",
      "Requirement already satisfied: boto3 in /opt/conda/lib/python3.12/site-packages (1.37.1)\n",
      "Requirement already satisfied: pandas in /opt/conda/lib/python3.12/site-packages (2.2.3)\n",
      "Requirement already satisfied: botocore<1.38.0,>=1.37.1 in /opt/conda/lib/python3.12/site-packages (from boto3) (1.37.1)\n",
      "Requirement already satisfied: jmespath<2.0.0,>=0.7.1 in /opt/conda/lib/python3.12/site-packages (from boto3) (1.0.1)\n",
      "Requirement already satisfied: s3transfer<0.12.0,>=0.11.0 in /opt/conda/lib/python3.12/site-packages (from boto3) (0.11.3)\n",
      "Requirement already satisfied: numpy>=1.26.0 in /opt/conda/lib/python3.12/site-packages (from pandas) (2.2.4)\n",
      "Requirement already satisfied: python-dateutil>=2.8.2 in /opt/conda/lib/python3.12/site-packages (from pandas) (2.9.0.post0)\n",
      "Requirement already satisfied: pytz>=2020.1 in /opt/conda/lib/python3.12/site-packages (from pandas) (2025.2)\n",
      "Requirement already satisfied: tzdata>=2022.7 in /opt/conda/lib/python3.12/site-packages (from pandas) (2025.2)\n",
      "Requirement already satisfied: urllib3!=2.2.0,<3,>=1.25.4 in /opt/conda/lib/python3.12/site-packages (from botocore<1.38.0,>=1.37.1->boto3) (2.3.0)\n",
      "Requirement already satisfied: six>=1.5 in /opt/conda/lib/python3.12/site-packages (from python-dateutil>=2.8.2->pandas) (1.17.0)\n",
      "Note: you may need to restart the kernel to use updated packages.\n"
     ]
    }
   ],
   "source": [
    "pip install pyarrow boto3 pandas"
   ]
  },
  {
   "cell_type": "code",
   "execution_count": 2,
   "id": "ff3aa33e-2186-4219-b942-695a344f8bae",
   "metadata": {},
   "outputs": [],
   "source": [
    "import s3fs\n",
    "\n",
    "fs = s3fs.S3FileSystem(client_kwargs={\"endpoint_url\": \"https://minio.lab.sspcloud.fr\"})\n",
    "bucket_name = 'aymericp/CNAM'\n",
    "csv_key = 'A202412.csv'"
   ]
  },
  {
   "cell_type": "code",
   "execution_count": 3,
   "id": "7b107097-a70a-4269-a7be-c83e70eef263",
   "metadata": {},
   "outputs": [
    {
     "name": "stdout",
     "output_type": "stream",
     "text": [
      "['aymericp/CNAM/.keep', 'aymericp/CNAM/A201805.csv', 'aymericp/CNAM/A201806.csv', 'aymericp/CNAM/A201807.csv', 'aymericp/CNAM/A201808.csv', 'aymericp/CNAM/A201809.csv', 'aymericp/CNAM/A201810.csv', 'aymericp/CNAM/A201811.csv', 'aymericp/CNAM/A201812.csv', 'aymericp/CNAM/A201901.csv', 'aymericp/CNAM/A201902.csv', 'aymericp/CNAM/A201903.csv', 'aymericp/CNAM/A201904.csv', 'aymericp/CNAM/A201905.csv', 'aymericp/CNAM/A201906.csv', 'aymericp/CNAM/A201907.csv', 'aymericp/CNAM/A201908.csv', 'aymericp/CNAM/A201909.csv', 'aymericp/CNAM/A201910.csv', 'aymericp/CNAM/A201911.csv', 'aymericp/CNAM/A201912.csv', 'aymericp/CNAM/A202001.csv', 'aymericp/CNAM/A202002.csv', 'aymericp/CNAM/A202003.csv', 'aymericp/CNAM/A202004.csv', 'aymericp/CNAM/A202005.csv', 'aymericp/CNAM/A202006.csv', 'aymericp/CNAM/A202007.csv', 'aymericp/CNAM/A202008.csv', 'aymericp/CNAM/A202009.csv', 'aymericp/CNAM/A202010.csv', 'aymericp/CNAM/A202011.csv', 'aymericp/CNAM/A202012.csv', 'aymericp/CNAM/A202101.csv', 'aymericp/CNAM/A202102.csv', 'aymericp/CNAM/A202103.csv', 'aymericp/CNAM/A202104.csv', 'aymericp/CNAM/A202105.csv', 'aymericp/CNAM/A202106.csv', 'aymericp/CNAM/A202107.csv', 'aymericp/CNAM/A202108.csv', 'aymericp/CNAM/A202109.csv', 'aymericp/CNAM/A202110.csv', 'aymericp/CNAM/A202111.csv', 'aymericp/CNAM/A202112.csv', 'aymericp/CNAM/A202201.csv', 'aymericp/CNAM/A202202.csv', 'aymericp/CNAM/A202203.csv', 'aymericp/CNAM/A202204.csv', 'aymericp/CNAM/A202205.csv', 'aymericp/CNAM/A202206.csv', 'aymericp/CNAM/A202207.csv', 'aymericp/CNAM/A202208.csv', 'aymericp/CNAM/A202209.csv', 'aymericp/CNAM/A202210.csv', 'aymericp/CNAM/A202211.csv', 'aymericp/CNAM/A202212.csv', 'aymericp/CNAM/A202301.csv', 'aymericp/CNAM/A202302.csv', 'aymericp/CNAM/A202303.csv', 'aymericp/CNAM/A202304.csv', 'aymericp/CNAM/A202305.csv', 'aymericp/CNAM/A202306.csv', 'aymericp/CNAM/A202307.csv', 'aymericp/CNAM/A202308.csv', 'aymericp/CNAM/A202309.csv', 'aymericp/CNAM/A202310.csv', 'aymericp/CNAM/A202311.csv', 'aymericp/CNAM/A202312.csv', 'aymericp/CNAM/A202401.csv', 'aymericp/CNAM/A202402.csv', 'aymericp/CNAM/A202403.csv', 'aymericp/CNAM/A202404.csv', 'aymericp/CNAM/A202405.csv', 'aymericp/CNAM/A202406.csv', 'aymericp/CNAM/A202407.csv', 'aymericp/CNAM/A202408.csv', 'aymericp/CNAM/A202409.csv', 'aymericp/CNAM/A202410.csv', 'aymericp/CNAM/A202411.csv', 'aymericp/CNAM/A202412.csv']\n"
     ]
    }
   ],
   "source": [
    "# Lister les fichiers dans le dossier CNAM du bucket\n",
    "files_in_cnam = fs.ls(f\"s3://{bucket_name}/\")\n",
    "print(files_in_cnam)"
   ]
  },
  {
   "cell_type": "code",
   "execution_count": null,
   "id": "0fad0d55-141a-4313-9adc-374b636a2ccc",
   "metadata": {},
   "outputs": [
    {
     "name": "stdout",
     "output_type": "stream",
     "text": [
      "CNAM/A202401.csv\n",
      "CNAM_parquet/A202401.parquet\n"
     ]
    }
   ],
   "source": [
    "import pyarrow.csv as pv_csv\n",
    "import pyarrow.parquet as pq\n",
    "import pyarrow as pa\n",
    "from io import BytesIO\n",
    "import s3fs\n",
    "import gc\n",
    "\n",
    "fs = s3fs.S3FileSystem(client_kwargs={\"endpoint_url\": \"https://minio.lab.sspcloud.fr\"})\n",
    "\n",
    "# Fonction pour convertir CSV en Parquet et sauvegarder dans S3\n",
    "def csv_to_parquet_s3(bucket_name, csv_key, parquet_key):\n",
    "    # Télécharger le fichier CSV depuis S3\n",
    "    csv_data = fs.open(f\"s3://{bucket_name}/{csv_key}\").read()\n",
    "\n",
    "    # Convertir le CSV en table Arrow\n",
    "    parse_opts = pv_csv.ParseOptions(delimiter=';')\n",
    "    buffer = BytesIO(csv_data)\n",
    "    table = pv_csv.read_csv(buffer, parse_options=parse_opts)\n",
    "\n",
    "    # Sauvegarder la table Arrow en Parquet\n",
    "    parquet_buffer = BytesIO()\n",
    "    pq.write_table(table, parquet_buffer, compression='zstd')\n",
    "    \n",
    "    # Sauvegarder le fichier Parquet dans S3 en utilisant s3fs\n",
    "    with fs.open(f\"s3://{bucket_name}/{parquet_key}\", 'wb') as parquet_file:\n",
    "        parquet_file.write(parquet_buffer.getvalue())\n",
    "\n",
    "    print(f\"Fichier Parquet sauvegardé sous {parquet_key} dans le bucket {bucket_name}.\")\n",
    "\n",
    "    # Libérer les objets en mémoire après l'utilisation\n",
    "    del csv_data\n",
    "    del buffer\n",
    "    del table\n",
    "    del parquet_buffer\n",
    "    gc.collect()  # Forcer la collecte des objets inutiles de la mémoire\n",
    "\n",
    "    print(f\"Objets en mémoire supprimés.\")\n",
    "\n",
    "\n",
    "# Utilisation de la fonction\n",
    "bucket_name = 'aymericp'\n",
    "\n",
    "for a in [2024]:\n",
    "    for m in [\"01\",\"02\",\"03\",\"04\",\"05\",\"06\",\"07\",\"08\",\"09\",\"10\",\"11\",\"12\"]:\n",
    "        csv_key = 'CNAM/A'+str(a)+m+'.csv'\n",
    "        parquet_key = 'CNAM_parquet/A'+str(a)+m+'.parquet'\n",
    "        print(csv_key)\n",
    "        print(parquet_key)\n",
    "        csv_to_parquet_s3(bucket_name, csv_key, parquet_key)"
   ]
  },
  {
   "cell_type": "code",
   "execution_count": null,
   "id": "965d4239-9b86-4ac9-89d7-3cb53647b2b8",
   "metadata": {},
   "outputs": [],
   "source": [
    "#Vérification : \n",
    "\n",
    "import pyarrow.csv as pv_csv\n",
    "import pyarrow.parquet as pq\n",
    "import s3fs\n",
    "\n",
    "fs = s3fs.S3FileSystem(client_kwargs={\"endpoint_url\": \"https://minio.lab.sspcloud.fr\"})\n",
    "\n",
    "# Fonction pour obtenir le nombre de lignes d'un fichier CSV\n",
    "def get_csv_row_count(bucket_name, csv_key):\n",
    "    csv_data = fs.open(f\"s3://{bucket_name}/{csv_key}\").read()\n",
    "    buffer = BytesIO(csv_data)\n",
    "    table = pv_csv.read_csv(buffer)\n",
    "    return table.num_rows\n",
    "\n",
    "# Fonction pour obtenir le nombre de lignes d'un fichier Parquet\n",
    "def get_parquet_row_count(bucket_name, parquet_key):\n",
    "    with fs.open(f\"s3://{bucket_name}/{parquet_key}\", 'rb') as parquet_file:\n",
    "        parquet_table = pq.read_table(parquet_file)\n",
    "    return parquet_table.num_rows\n",
    "\n",
    "# Fonction pour comparer le nombre de lignes entre un CSV et un Parquet\n",
    "def compare_csv_parquet_row_count(bucket_name, csv_key, parquet_key):\n",
    "    # Compter les lignes du CSV\n",
    "    csv_row_count = get_csv_row_count(bucket_name, csv_key)\n",
    "    print(f\"Nombre de lignes dans le fichier CSV {csv_key}: {csv_row_count}\")\n",
    "    \n",
    "    # Compter les lignes du Parquet\n",
    "    parquet_row_count = get_parquet_row_count(bucket_name, parquet_key)\n",
    "    print(f\"Nombre de lignes dans le fichier Parquet {parquet_key}: {parquet_row_count}\")\n",
    "    \n",
    "    # Comparer les nombres de lignes\n",
    "    if csv_row_count == parquet_row_count:\n",
    "        print(f\"Le nombre de lignes est identique entre le fichier CSV et le fichier Parquet ({csv_row_count} lignes).\")\n",
    "    else:\n",
    "        print(f\"Attention : Le nombre de lignes diffère entre le fichier CSV ({csv_row_count} lignes) et le fichier Parquet ({parquet_row_count} lignes).\")\n",
    "\n",
    "# Utilisation de la fonction pour vérifier plusieurs fichiers\n",
    "bucket_name = 'aymericp'\n",
    "\n",
    "for a in [2024]:\n",
    "    for m in [\"01\", \"02\", \"03\", \"04\", \"05\", \"06\", \"07\", \"08\", \"09\", \"10\", \"11\", \"12\"]:\n",
    "        csv_key = f'CNAM/A{a}{m}.csv'\n",
    "        parquet_key = f'CNAM_parquet/A{a}{m}.parquet'\n",
    "        print(f\"Vérification des fichiers : {csv_key} et {parquet_key}\")\n",
    "        compare_csv_parquet_row_count(bucket_name, csv_key, parquet_key)\n"
   ]
  },
  {
   "cell_type": "code",
   "execution_count": null,
   "id": "2dc47350-480d-40d3-a929-30aec23aa700",
   "metadata": {},
   "outputs": [],
   "source": []
  }
 ],
 "metadata": {
  "kernelspec": {
   "display_name": "Python 3 (ipykernel)",
   "language": "python",
   "name": "python3"
  },
  "language_info": {
   "codemirror_mode": {
    "name": "ipython",
    "version": 3
   },
   "file_extension": ".py",
   "mimetype": "text/x-python",
   "name": "python",
   "nbconvert_exporter": "python",
   "pygments_lexer": "ipython3",
   "version": "3.12.9"
  }
 },
 "nbformat": 4,
 "nbformat_minor": 5
}
